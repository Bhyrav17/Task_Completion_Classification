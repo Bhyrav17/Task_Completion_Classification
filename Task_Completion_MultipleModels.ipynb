{
 "cells": [
  {
   "cell_type": "markdown",
   "id": "aecebf4e",
   "metadata": {},
   "source": [
    "<h1 style=\"background-color:yellow; \"> Table of Contents</h1> <a class=\"anchor\" id=\"table-of-content\"></a>\n",
    "    \n",
    "* [1. Problem Background & Motivation](#problem-background)\n",
    "* [2. Library Importation](#import-package)\n",
    "* [3. Custom Libraries](#custom-libraries)\n",
    "* [4. Connect to Data Source and Data Extraction](#data-extraction)\n",
    "* [5. Exploratory Data Analysis](#data-prep)\n",
    "* [6. Machine Learning Model](#ml-model)\n",
    "* [7. Deployment](#Deployment)\n",
    "* [8. Conclusion](#Conclusion)\n"
   ]
  },
  {
   "cell_type": "markdown",
   "id": "88fcbb59",
   "metadata": {},
   "source": [
    "<h1 style=\"background-color:powderblue; \">1. Problem Background and Motivation</h1> <a class=\"anchor\" id=\"problem-background\"></a>\n",
    "\n",
    "<h3> Resource Allocation in a Company </h3>\n",
    "\n",
    "<h2> 1.1 General Info </h2>\n",
    "Human resource allocation is considered a relevant problem in business process management (BPM). The successful allocation of available resources for the execution of process activities can impact on process performance, reduce costs and obtain a better productivity of the resources.  \n",
    "\n",
    "<img src=\"https://assets-global.website-files.com/5d9ffc249511353e753840c9/61dd3a668b3508cac6f810bb_1638432074498.jpeg\" alt=\"Resource Allocation dimensions\" />\n",
    "\n",
    ">* Based on the above Picture, we observe that there is a lot of dimensonality invloved in allocation of resources in a company.\n",
    " \n",
    " \n",
    " \n",
    "<h2> 1.2 What is the problem? </h2>\n",
    " \n",
    " There is a lot of technicalities involved in assigning an employee to a project/task. It is a tideous process to carefully assign the right employee to a desired task. There are many factors involved such as experience level, training levels, seniority etc in order for this allocation. \n",
    " \n",
    "The problem arises when the company has to decide which of its employee has to be allocated to which task. This labor intensive task was previously done and kept as records in Excel or some third party software. But with the inventio of ML, now the HR department can leverage this technology and predict if an employee will complete his/her task or not and accurately allocate the resources. \n",
    "\n",
    "<h2> 1.3 Interested Party and Reason </h2>\n",
    "\n",
    "The HR department in a Multi National Company would be really interested in the explained ML model as it saves them time and cost for the company. It also cuts down manual labor which is invloved when collecting the data.\n",
    "\n",
    "\n",
    " Advantages of having a ML model with Task completion prediction powers:\n",
    "  >- The HR department will have a pretty good idea who will complete their tasks or not.\n",
    "  >- Based on the task completion or not, the HR dept can allocate resources to tasks.\n",
    "  >- The model maybe used to evaluate an employee's performance like In how much time the employee completed his work? - This can be used to give promotions or additional payouts.\n",
    "  >- Based on the results, the HR dept can train the employee's in certain level to achieve maximum efficiency ( More number of employees completing with a certain training level, then the rest of the employee's can be trained in the same level)\n",
    "\n",
    "* [Go to Top](#table-of-content) "
   ]
  },
  {
   "cell_type": "markdown",
   "id": "dd93d9a8",
   "metadata": {},
   "source": [
    "<h1 style=\"background-color:powderblue; \">2. Library Importation</h1> <a class=\"anchor\" id=\"import-package\"></a>\n",
    "  \n",
    "  Import the required packages needed for the model.\n",
    "  "
   ]
  },
  {
   "cell_type": "code",
   "execution_count": 1,
   "id": "42f4e006",
   "metadata": {},
   "outputs": [],
   "source": [
    "import pandas as pd\n",
    "pd.set_option('display.max_columns', None)\n",
    "pd.options.display.float_format = '{:.2f}'.format\n",
    "import numpy as np\n",
    "import pickle\n",
    "\n",
    "# Graphics\n",
    "import seaborn as sns\n",
    "import matplotlib.pyplot as plt\n",
    "import plotly.graph_objects as go\n",
    "\n",
    "# ML\n",
    "from sklearn.model_selection import train_test_split\n",
    "from sklearn.linear_model import LogisticRegression\n",
    "from sklearn.neighbors import NearestNeighbors, KNeighborsClassifier\n",
    "from sklearn import metrics"
   ]
  },
  {
   "cell_type": "markdown",
   "id": "809fd234",
   "metadata": {},
   "source": [
    "<h1 style =\"background-color:powderblue;\"> 3. Custom Built Libraries</h1> <a class=\"anchor\" id=\"custom-libraries\"> </a>"
   ]
  },
  {
   "cell_type": "code",
   "execution_count": 2,
   "id": "85d9b417",
   "metadata": {},
   "outputs": [],
   "source": [
    "# Custom function below is used to display performance measures\n",
    "# Required inputs are the model name and the two test data objects (X,y)\n",
    "def class_perf_measures(model,X_test,y_test):\n",
    "    # Create empty lists to store metric values created within loop\n",
    "    TP = []\n",
    "    TN = []\n",
    "    FP = []\n",
    "    FN = []\n",
    "    recall = []\n",
    "    precision = []\n",
    "    F1 = []\n",
    "    Accuracy = []\n",
    "    \n",
    "    # Create list of probability threshold values to loop over\n",
    "    threshold = np.arange(0,1.1,0.1).tolist()\n",
    "\n",
    "    # Start loop\n",
    "    for i in threshold:\n",
    "\n",
    "        # Create class assignments given threshold value\n",
    "        y_test_pred_class = (model.predict_proba(X_test)[:,1] >= i).astype(int)\n",
    "\n",
    "        # Append lists with metric values\n",
    "        TP.append(metrics.confusion_matrix(y_test, y_test_pred_class)[1,1])\n",
    "        TN.append(metrics.confusion_matrix(y_test, y_test_pred_class)[0,0])\n",
    "        FP.append(metrics.confusion_matrix(y_test, y_test_pred_class)[0,1])\n",
    "        FN.append(metrics.confusion_matrix(y_test, y_test_pred_class)[1,0])\n",
    "        recall.append(metrics.recall_score(y_test, y_test_pred_class).round(3))\n",
    "        precision.append(metrics.precision_score(y_test, y_test_pred_class).round(3))\n",
    "        F1.append(metrics.f1_score(y_test, y_test_pred_class).round(2))\n",
    "        Accuracy.append(metrics.accuracy_score(y_test, y_test_pred_class).round(2))\n",
    "\n",
    "    # Create dataframe\n",
    "    result = pd.DataFrame({\"threshold\":threshold,\n",
    "                           \"TP\":TP,\n",
    "                           \"TN\":TN,\n",
    "                           \"FP\":FP,\n",
    "                           \"FN\":FN,\n",
    "                           \"Precision\":precision,\n",
    "                           \"Recall\":recall,\n",
    "                           \"Accuracy\": Accuracy,\n",
    "                           \"F1-Score\":F1\n",
    "                          })\n",
    "\n",
    "    # Let's look at our dataframe\n",
    "    return result"
   ]
  },
  {
   "cell_type": "markdown",
   "id": "2ac5e30e",
   "metadata": {
    "scrolled": true
   },
   "source": [
    "<h1 style=\"background-color:powderblue; \">4. Data Extraction and Initial Evaluation</h1> <a class=\"anchor\" id=\"data-extraction\"></a>\n"
   ]
  },
  {
   "cell_type": "markdown",
   "id": "98d09dc0",
   "metadata": {},
   "source": [
    "Read the input data and make sense of it."
   ]
  },
  {
   "cell_type": "code",
   "execution_count": 3,
   "id": "9c26d8fc",
   "metadata": {},
   "outputs": [
    {
     "data": {
      "text/html": [
       "<div>\n",
       "<style scoped>\n",
       "    .dataframe tbody tr th:only-of-type {\n",
       "        vertical-align: middle;\n",
       "    }\n",
       "\n",
       "    .dataframe tbody tr th {\n",
       "        vertical-align: top;\n",
       "    }\n",
       "\n",
       "    .dataframe thead th {\n",
       "        text-align: right;\n",
       "    }\n",
       "</style>\n",
       "<table border=\"1\" class=\"dataframe\">\n",
       "  <thead>\n",
       "    <tr style=\"text-align: right;\">\n",
       "      <th></th>\n",
       "      <th>task_completed</th>\n",
       "      <th>employee_experience</th>\n",
       "      <th>training_level4</th>\n",
       "      <th>training_level6</th>\n",
       "      <th>training_level8</th>\n",
       "    </tr>\n",
       "  </thead>\n",
       "  <tbody>\n",
       "    <tr>\n",
       "      <th>65</th>\n",
       "      <td>0</td>\n",
       "      <td>6.50</td>\n",
       "      <td>1</td>\n",
       "      <td>0</td>\n",
       "      <td>0</td>\n",
       "    </tr>\n",
       "    <tr>\n",
       "      <th>66</th>\n",
       "      <td>0</td>\n",
       "      <td>7.40</td>\n",
       "      <td>0</td>\n",
       "      <td>0</td>\n",
       "      <td>1</td>\n",
       "    </tr>\n",
       "    <tr>\n",
       "      <th>67</th>\n",
       "      <td>0</td>\n",
       "      <td>6.50</td>\n",
       "      <td>1</td>\n",
       "      <td>0</td>\n",
       "      <td>0</td>\n",
       "    </tr>\n",
       "    <tr>\n",
       "      <th>68</th>\n",
       "      <td>0</td>\n",
       "      <td>8.20</td>\n",
       "      <td>1</td>\n",
       "      <td>0</td>\n",
       "      <td>0</td>\n",
       "    </tr>\n",
       "    <tr>\n",
       "      <th>69</th>\n",
       "      <td>0</td>\n",
       "      <td>5.90</td>\n",
       "      <td>1</td>\n",
       "      <td>0</td>\n",
       "      <td>0</td>\n",
       "    </tr>\n",
       "    <tr>\n",
       "      <th>70</th>\n",
       "      <td>0</td>\n",
       "      <td>5.60</td>\n",
       "      <td>1</td>\n",
       "      <td>0</td>\n",
       "      <td>0</td>\n",
       "    </tr>\n",
       "    <tr>\n",
       "      <th>71</th>\n",
       "      <td>0</td>\n",
       "      <td>5.90</td>\n",
       "      <td>0</td>\n",
       "      <td>0</td>\n",
       "      <td>1</td>\n",
       "    </tr>\n",
       "    <tr>\n",
       "      <th>72</th>\n",
       "      <td>0</td>\n",
       "      <td>6.40</td>\n",
       "      <td>0</td>\n",
       "      <td>1</td>\n",
       "      <td>0</td>\n",
       "    </tr>\n",
       "    <tr>\n",
       "      <th>73</th>\n",
       "      <td>0</td>\n",
       "      <td>3.80</td>\n",
       "      <td>1</td>\n",
       "      <td>0</td>\n",
       "      <td>0</td>\n",
       "    </tr>\n",
       "    <tr>\n",
       "      <th>74</th>\n",
       "      <td>0</td>\n",
       "      <td>5.30</td>\n",
       "      <td>1</td>\n",
       "      <td>0</td>\n",
       "      <td>0</td>\n",
       "    </tr>\n",
       "  </tbody>\n",
       "</table>\n",
       "</div>"
      ],
      "text/plain": [
       "    task_completed  employee_experience  training_level4  training_level6  \\\n",
       "65               0                 6.50                1                0   \n",
       "66               0                 7.40                0                0   \n",
       "67               0                 6.50                1                0   \n",
       "68               0                 8.20                1                0   \n",
       "69               0                 5.90                1                0   \n",
       "70               0                 5.60                1                0   \n",
       "71               0                 5.90                0                0   \n",
       "72               0                 6.40                0                1   \n",
       "73               0                 3.80                1                0   \n",
       "74               0                 5.30                1                0   \n",
       "\n",
       "    training_level8  \n",
       "65                0  \n",
       "66                1  \n",
       "67                0  \n",
       "68                0  \n",
       "69                0  \n",
       "70                0  \n",
       "71                1  \n",
       "72                0  \n",
       "73                0  \n",
       "74                0  "
      ]
     },
     "execution_count": 3,
     "metadata": {},
     "output_type": "execute_result"
    }
   ],
   "source": [
    "# Read in data - To see what the data can tell us\n",
    "url = 'https://github.com/Bhyrav17/Task_Completion_Classification/blob/main/Data/SystemAdministrators.csv?raw=true'\n",
    "df = pd.read_csv(url, index_col=0)\n",
    "\n",
    "# get the last 10 records to get a count of the records and see the column data\n",
    "df.tail(10) "
   ]
  },
  {
   "cell_type": "code",
   "execution_count": 4,
   "id": "baabc64b",
   "metadata": {},
   "outputs": [
    {
     "name": "stdout",
     "output_type": "stream",
     "text": [
      "<class 'pandas.core.frame.DataFrame'>\n",
      "RangeIndex: 75 entries, 0 to 74\n",
      "Data columns (total 5 columns):\n",
      " #   Column               Non-Null Count  Dtype  \n",
      "---  ------               --------------  -----  \n",
      " 0   task_completed       75 non-null     int64  \n",
      " 1   employee_experience  75 non-null     float64\n",
      " 2   training_level4      75 non-null     int64  \n",
      " 3   training_level6      75 non-null     int64  \n",
      " 4   training_level8      75 non-null     int64  \n",
      "dtypes: float64(1), int64(4)\n",
      "memory usage: 3.1 KB\n"
     ]
    }
   ],
   "source": [
    "# check number of rows with non null values and data type of each column\n",
    "df.info()"
   ]
  },
  {
   "cell_type": "markdown",
   "id": "23e17ed1",
   "metadata": {},
   "source": [
    "> **Initial Evaluation - Notes on Findings**<br><br>\n",
    ">**Observations:**<br>\n",
    ">>**75 Records**<br><br>\n",
    ">>**Outcome:** The target variable is **task_completed**<br>\n",
    "\n",
    "The below observations is just assumptions made with the given data with logical aspects.\n",
    "\n",
    ">- Its a Classification problem where the predictors are employee_ experience and different training levels\n",
    ">- task_completed ( 1 if the person has finished a given task, 0 otherwise)\n",
    ">- employee_experience ( Mentions the no.of.years the employee has experience with the job) - Years is the most likely term, but this can be in months also\n",
    ">- training_level4,training_level6 and training_level8 - Determines the seniority level of the employee. ( my assumption is the higher the level of training, that employee will finish the task at hand - Let's explore this )\n",
    "\n",
    "\n",
    "\n",
    ">[Go to Data Extraction](#data-extraction)"
   ]
  },
  {
   "cell_type": "markdown",
   "id": "2a667201",
   "metadata": {},
   "source": [
    "<h1 style=\"background-color:powderblue; \">5. Exploratory Data Analysis</h1> <a class=\"anchor\" id=\"data-prep\"></a>\n",
    "\n",
    "* [Go to Top of Notebook](#table-of-content)"
   ]
  },
  {
   "cell_type": "markdown",
   "id": "03e54e11",
   "metadata": {},
   "source": [
    "- [X] [Initial Evaluation](#data-extraction)\n",
    "- [X] [Initial Cleanup - Duplicates and missing values](#missing-values)\n",
    "- [X] [Outlier Detection & Treatment](#outliers-treatment)\n",
    "- [X] [Feature Selection](#feature-selection)\n",
    "- [X] [Feature Transformations](#feature-transformations)\n",
    "- [X] [Data Partitioning](#data-split)\n",
    "- [X] [Data Normalization](#data-norm)\n"
   ]
  },
  {
   "cell_type": "markdown",
   "id": "9e04a4c8",
   "metadata": {},
   "source": [
    "> <h3 style=\"color:MediumSeaGreen;\"> Initial Cleanup - dupes, missing values </h3> <a class=\"anchor\" id=\"missing-values\"></a>"
   ]
  },
  {
   "cell_type": "code",
   "execution_count": 5,
   "id": "fa20d9c1",
   "metadata": {},
   "outputs": [],
   "source": [
    "df.columns = df.columns.str.replace(' ', '_') # replacing the spaces in the columns with underscore "
   ]
  },
  {
   "cell_type": "code",
   "execution_count": 6,
   "id": "a39e0625",
   "metadata": {},
   "outputs": [
    {
     "data": {
      "text/plain": [
       "task_completed         0\n",
       "employee_experience    0\n",
       "training_level4        0\n",
       "training_level6        0\n",
       "training_level8        0\n",
       "dtype: int64"
      ]
     },
     "execution_count": 6,
     "metadata": {},
     "output_type": "execute_result"
    }
   ],
   "source": [
    "df.isnull().sum()  #isnull() counts all the nulls in the columns and sum() adds them up for every column"
   ]
  },
  {
   "cell_type": "code",
   "execution_count": 7,
   "id": "d3746345",
   "metadata": {},
   "outputs": [
    {
     "data": {
      "text/plain": [
       "<AxesSubplot:xlabel='task_completed', ylabel='Count'>"
      ]
     },
     "execution_count": 7,
     "metadata": {},
     "output_type": "execute_result"
    },
    {
     "data": {
      "image/png": "[encoded data removed]",
      "text/plain": [
       "<Figure size 432x288 with 1 Axes>"
      ]
     },
     "metadata": {
      "needs_background": "light"
     },
     "output_type": "display_data"
    }
   ],
   "source": [
    "sns.histplot(data=df,x='task_completed')"
   ]
  },
  {
   "cell_type": "markdown",
   "id": "87e72936",
   "metadata": {},
   "source": [
    "> **Initial Cleanup:** <br>\n",
    "> *Summary*<br>\n",
    ">>- There was no nulls or dupes present in the data.\n",
    "\n",
    "\n",
    ">[Go to Data Prep Index](#data-prep)"
   ]
  },
  {
   "cell_type": "markdown",
   "id": "26e917f2",
   "metadata": {},
   "source": [
    "> <h3 style=\"color:MediumSeaGreen;\"> Outlier Detection & Treatment </h3> <a class=\"anchor\" id=\"outliers-treatment\"></a>"
   ]
  },
  {
   "cell_type": "code",
   "execution_count": 8,
   "id": "49954458",
   "metadata": {},
   "outputs": [
    {
     "data": {
      "text/html": [
       "<div>\n",
       "<style scoped>\n",
       "    .dataframe tbody tr th:only-of-type {\n",
       "        vertical-align: middle;\n",
       "    }\n",
       "\n",
       "    .dataframe tbody tr th {\n",
       "        vertical-align: top;\n",
       "    }\n",
       "\n",
       "    .dataframe thead th {\n",
       "        text-align: right;\n",
       "    }\n",
       "</style>\n",
       "<table border=\"1\" class=\"dataframe\">\n",
       "  <thead>\n",
       "    <tr style=\"text-align: right;\">\n",
       "      <th></th>\n",
       "      <th>count</th>\n",
       "      <th>mean</th>\n",
       "      <th>std</th>\n",
       "      <th>min</th>\n",
       "      <th>25%</th>\n",
       "      <th>50%</th>\n",
       "      <th>75%</th>\n",
       "      <th>max</th>\n",
       "    </tr>\n",
       "  </thead>\n",
       "  <tbody>\n",
       "    <tr>\n",
       "      <th>task_completed</th>\n",
       "      <td>75.00</td>\n",
       "      <td>0.20</td>\n",
       "      <td>0.40</td>\n",
       "      <td>0.00</td>\n",
       "      <td>0.00</td>\n",
       "      <td>0.00</td>\n",
       "      <td>0.00</td>\n",
       "      <td>1.00</td>\n",
       "    </tr>\n",
       "    <tr>\n",
       "      <th>employee_experience</th>\n",
       "      <td>75.00</td>\n",
       "      <td>6.80</td>\n",
       "      <td>2.27</td>\n",
       "      <td>2.70</td>\n",
       "      <td>5.20</td>\n",
       "      <td>6.30</td>\n",
       "      <td>7.85</td>\n",
       "      <td>13.70</td>\n",
       "    </tr>\n",
       "    <tr>\n",
       "      <th>training_level4</th>\n",
       "      <td>75.00</td>\n",
       "      <td>0.76</td>\n",
       "      <td>0.43</td>\n",
       "      <td>0.00</td>\n",
       "      <td>1.00</td>\n",
       "      <td>1.00</td>\n",
       "      <td>1.00</td>\n",
       "      <td>1.00</td>\n",
       "    </tr>\n",
       "    <tr>\n",
       "      <th>training_level6</th>\n",
       "      <td>75.00</td>\n",
       "      <td>0.17</td>\n",
       "      <td>0.38</td>\n",
       "      <td>0.00</td>\n",
       "      <td>0.00</td>\n",
       "      <td>0.00</td>\n",
       "      <td>0.00</td>\n",
       "      <td>1.00</td>\n",
       "    </tr>\n",
       "    <tr>\n",
       "      <th>training_level8</th>\n",
       "      <td>75.00</td>\n",
       "      <td>0.07</td>\n",
       "      <td>0.25</td>\n",
       "      <td>0.00</td>\n",
       "      <td>0.00</td>\n",
       "      <td>0.00</td>\n",
       "      <td>0.00</td>\n",
       "      <td>1.00</td>\n",
       "    </tr>\n",
       "  </tbody>\n",
       "</table>\n",
       "</div>"
      ],
      "text/plain": [
       "                     count  mean  std  min  25%  50%  75%   max\n",
       "task_completed       75.00  0.20 0.40 0.00 0.00 0.00 0.00  1.00\n",
       "employee_experience  75.00  6.80 2.27 2.70 5.20 6.30 7.85 13.70\n",
       "training_level4      75.00  0.76 0.43 0.00 1.00 1.00 1.00  1.00\n",
       "training_level6      75.00  0.17 0.38 0.00 0.00 0.00 0.00  1.00\n",
       "training_level8      75.00  0.07 0.25 0.00 0.00 0.00 0.00  1.00"
      ]
     },
     "execution_count": 8,
     "metadata": {},
     "output_type": "execute_result"
    }
   ],
   "source": [
    "DataTypes = ['int16', 'int32', 'int64', 'float16', 'float32', 'float64']\n",
    "\n",
    "df_temp = df.select_dtypes(include=DataTypes)\n",
    "\n",
    "\n",
    "df_temp.describe().T"
   ]
  },
  {
   "cell_type": "code",
   "execution_count": 9,
   "id": "edf06ade",
   "metadata": {},
   "outputs": [
    {
     "data": {
      "text/plain": [
       "<AxesSubplot:xlabel='task_completed', ylabel='Count'>"
      ]
     },
     "execution_count": 9,
     "metadata": {},
     "output_type": "execute_result"
    },
    {
     "data": {
      "image/png": "[encoded data removed]",
      "text/plain": [
       "<Figure size 432x288 with 1 Axes>"
      ]
     },
     "metadata": {
      "needs_background": "light"
     },
     "output_type": "display_data"
    }
   ],
   "source": [
    "sns.histplot(data=df,x='task_completed')"
   ]
  },
  {
   "cell_type": "markdown",
   "id": "cd086559",
   "metadata": {},
   "source": [
    "> **Outlier Detection: Summary of Actions**<br>\n",
    "<br>\n",
    ">**Note:**<br>\n",
    "    >- There was no outliers found in this data\n",
    "    >- Clearly there is a class imbalance problem as there is more number of 0's than 1's.  Possible solution would be to do undersampling or oversampling - Will try it out."
   ]
  },
  {
   "cell_type": "markdown",
   "id": "babb1667",
   "metadata": {},
   "source": [
    ">[Go to Data Prep Index](#data-prep)"
   ]
  },
  {
   "cell_type": "markdown",
   "id": "2026b5ff",
   "metadata": {},
   "source": [
    "> <h3 style=\"color:MediumSeaGreen;\"> Feature Selection</h3> <a class=\"anchor\" id=\"feature-selection\"></a>"
   ]
  },
  {
   "cell_type": "code",
   "execution_count": 10,
   "id": "825bfee1",
   "metadata": {},
   "outputs": [
    {
     "data": {
      "text/html": [
       "<div>\n",
       "<style scoped>\n",
       "    .dataframe tbody tr th:only-of-type {\n",
       "        vertical-align: middle;\n",
       "    }\n",
       "\n",
       "    .dataframe tbody tr th {\n",
       "        vertical-align: top;\n",
       "    }\n",
       "\n",
       "    .dataframe thead th {\n",
       "        text-align: right;\n",
       "    }\n",
       "</style>\n",
       "<table border=\"1\" class=\"dataframe\">\n",
       "  <thead>\n",
       "    <tr style=\"text-align: right;\">\n",
       "      <th></th>\n",
       "      <th>task_completed</th>\n",
       "      <th>employee_experience</th>\n",
       "      <th>training_level4</th>\n",
       "      <th>training_level6</th>\n",
       "      <th>training_level8</th>\n",
       "    </tr>\n",
       "  </thead>\n",
       "  <tbody>\n",
       "    <tr>\n",
       "      <th>task_completed</th>\n",
       "      <td>1.00</td>\n",
       "      <td>0.70</td>\n",
       "      <td>-0.19</td>\n",
       "      <td>0.12</td>\n",
       "      <td>0.13</td>\n",
       "    </tr>\n",
       "    <tr>\n",
       "      <th>employee_experience</th>\n",
       "      <td>0.70</td>\n",
       "      <td>1.00</td>\n",
       "      <td>-0.25</td>\n",
       "      <td>0.20</td>\n",
       "      <td>0.12</td>\n",
       "    </tr>\n",
       "    <tr>\n",
       "      <th>training_level4</th>\n",
       "      <td>-0.19</td>\n",
       "      <td>-0.25</td>\n",
       "      <td>1.00</td>\n",
       "      <td>-0.81</td>\n",
       "      <td>-0.48</td>\n",
       "    </tr>\n",
       "    <tr>\n",
       "      <th>training_level6</th>\n",
       "      <td>0.12</td>\n",
       "      <td>0.20</td>\n",
       "      <td>-0.81</td>\n",
       "      <td>1.00</td>\n",
       "      <td>-0.12</td>\n",
       "    </tr>\n",
       "    <tr>\n",
       "      <th>training_level8</th>\n",
       "      <td>0.13</td>\n",
       "      <td>0.12</td>\n",
       "      <td>-0.48</td>\n",
       "      <td>-0.12</td>\n",
       "      <td>1.00</td>\n",
       "    </tr>\n",
       "  </tbody>\n",
       "</table>\n",
       "</div>"
      ],
      "text/plain": [
       "                     task_completed  employee_experience  training_level4  \\\n",
       "task_completed                 1.00                 0.70            -0.19   \n",
       "employee_experience            0.70                 1.00            -0.25   \n",
       "training_level4               -0.19                -0.25             1.00   \n",
       "training_level6                0.12                 0.20            -0.81   \n",
       "training_level8                0.13                 0.12            -0.48   \n",
       "\n",
       "                     training_level6  training_level8  \n",
       "task_completed                  0.12             0.13  \n",
       "employee_experience             0.20             0.12  \n",
       "training_level4                -0.81            -0.48  \n",
       "training_level6                 1.00            -0.12  \n",
       "training_level8                -0.12             1.00  "
      ]
     },
     "execution_count": 10,
     "metadata": {},
     "output_type": "execute_result"
    }
   ],
   "source": [
    "df.select_dtypes(include=DataTypes).corr().round(3)"
   ]
  },
  {
   "cell_type": "code",
   "execution_count": 11,
   "id": "1b3a07ca",
   "metadata": {},
   "outputs": [
    {
     "data": {
      "image/png": "[encoded data removed]",
      "text/plain": [
       "<Figure size 864x504 with 2 Axes>"
      ]
     },
     "metadata": {
      "needs_background": "light"
     },
     "output_type": "display_data"
    }
   ],
   "source": [
    "#Plotting heat map to visualize the correlations - More user friendly than to check with the numbers and signs.  \n",
    "#I'm choosing to share this map as it makes life easier by letting us find the strong/weak correlations faster\n",
    "df_corr=df.corr().round(3)\n",
    "f,ax=plt.subplots(figsize=(12,7))\n",
    "sns.heatmap(df_corr,cmap='viridis',annot=True)\n",
    "plt.title(\"Correlation between features\",weight='bold',fontsize=18)\n",
    "plt.show()"
   ]
  },
  {
   "cell_type": "markdown",
   "id": "5fe11d2c",
   "metadata": {},
   "source": [
    ">**Note:**<br>\n",
    ">Features with Strong/Weak Correlations :\n",
    ">1. employee_experience(+)\n",
    ">2. training_level4 (-)\n",
    ">3. training_level4 (+)\n",
    ">4. training_level4 (+)\n",
    "<br>\n",
    "<br>"
   ]
  },
  {
   "cell_type": "markdown",
   "id": "ef54500b",
   "metadata": {},
   "source": [
    ">**Decision:**<br>\n",
    ">1. As there is less number of predictors available in the data and also looking at the cross correlation. I'm deciding to go with all the predictors available \n",
    "<br><br>\n",
    ">**NOTE:** <br>\n",
    "   We have to keep in mind that, for classification problems - we do regularization to pick the features. Can check once again coming back\n"
   ]
  },
  {
   "cell_type": "markdown",
   "id": "bac1d4fb",
   "metadata": {},
   "source": [
    ">[Go to Data Prep Index](#data-prep)"
   ]
  },
  {
   "cell_type": "markdown",
   "id": "3b9e5392",
   "metadata": {},
   "source": [
    "> **Feature Selection:** <br>\n",
    "> *Summary*<br>\n",
    ">>- Keeping all the predictor variables as there are in less number<br>\n",
    "\n",
    "\n",
    ">[Go to Data Prep Index](#data-prep)"
   ]
  },
  {
   "cell_type": "markdown",
   "id": "324386a3",
   "metadata": {},
   "source": [
    "> <h3 style=\"color:MediumSeaGreen;\"> Feature Transformation</h3> <a class=\"anchor\" id=\"feature-transformations\"></a>"
   ]
  },
  {
   "cell_type": "markdown",
   "id": "cd0b07f1",
   "metadata": {},
   "source": [
    "> **Feature Transformation:** <br>\n",
    "> *Summary*<br>\n",
    ">>- All the variables are in the desired formats, hence no need of feature transformation<br>\n",
    "\n",
    "\n",
    "\n",
    ">[Go to Data Prep Index](#data-prep)"
   ]
  },
  {
   "cell_type": "markdown",
   "id": "59c4bd80",
   "metadata": {},
   "source": [
    "> <h3 style=\"color:MediumSeaGreen;\"> Data Partition - TTS </h3> <a class=\"anchor\" id=\"data-split\"></a>"
   ]
  },
  {
   "cell_type": "markdown",
   "id": "52cb0fb1",
   "metadata": {},
   "source": [
    ">- 1. Encompassing all the predictor variables into a variable X  <br>\n",
    ">- 2. Encompassing the target variable to variable Y<br>\n",
    ">- 3. Split the Training and Test Data by 70/30 with random state- 0<br>"
   ]
  },
  {
   "cell_type": "code",
   "execution_count": 12,
   "id": "7ed106e9",
   "metadata": {},
   "outputs": [],
   "source": [
    "target = ['task_completed']\n",
    "\n",
    "X = df.drop(target,axis=1)\n",
    "y = df[target]\n",
    "\n",
    "# Split data\n",
    "X_train,X_test,y_train,y_test = train_test_split(X,y, test_size=0.3,random_state=1)"
   ]
  },
  {
   "cell_type": "code",
   "execution_count": 13,
   "id": "5bcb2274",
   "metadata": {},
   "outputs": [
    {
     "name": "stdout",
     "output_type": "stream",
     "text": [
      "(52, 4)\n",
      "(52, 1)\n",
      "(23, 4)\n",
      "(23, 1)\n"
     ]
    }
   ],
   "source": [
    "#To check how the data has been split\n",
    "print(X_train.shape)\n",
    "print(y_train.shape)\n",
    "print(X_test.shape)\n",
    "print(y_test.shape)"
   ]
  },
  {
   "cell_type": "markdown",
   "id": "3ed0c6b2",
   "metadata": {},
   "source": [
    ">[Go to Data Prep Index](#data-prep)"
   ]
  },
  {
   "cell_type": "markdown",
   "id": "4ae9dc75",
   "metadata": {},
   "source": [
    "> <h3 style=\"color:MediumSeaGreen;\"> Data Normalization </h3> <a class=\"anchor\" id=\"data-norm\"></a>"
   ]
  },
  {
   "cell_type": "code",
   "execution_count": 14,
   "id": "1d8a0d2c",
   "metadata": {},
   "outputs": [],
   "source": [
    "# Normalizing the predictor variables using Z-Scores method.\n",
    "# Use means and standard deviations of features as calculated in the TRAINING DATA\n",
    "# New values are centered at 0.  Values reflect the number of standard deviations\n",
    "# each record is above or below the mean.\n",
    "\n",
    "features_means = X_train.mean()\n",
    "features_std = X_train.std()\n",
    "\n",
    "X_train = (X_train - features_means)/features_std\n",
    "X_test = (X_test - features_means)/features_std"
   ]
  },
  {
   "cell_type": "markdown",
   "id": "dc60c133",
   "metadata": {},
   "source": [
    ">**NOTE:**:\n",
    " Always do Data Normalization for KNN as it is sensitive to the scaling of the data. It's always a good idea to do it when this model is involved."
   ]
  },
  {
   "cell_type": "markdown",
   "id": "46613a16",
   "metadata": {},
   "source": [
    ">[Go to Data Prep Index](#data-prep)"
   ]
  },
  {
   "cell_type": "markdown",
   "id": "291720aa",
   "metadata": {},
   "source": [
    "<h1 style=\"background-color:powderblue; \">6. Machine Learning </h1> <a class=\"anchor\" id=\"ml-model\"></a>\n",
    "\n",
    "- [X] [kNN classifier](#first-model)\n",
    "- [X] [Logistic Regression](#second-model)\n",
    "- [ ] [Performance Evaluation](#perf-eval)\n",
    "\n",
    "\n",
    "* [Go to Top](#table-of-content)"
   ]
  },
  {
   "cell_type": "markdown",
   "id": "195c1d8f",
   "metadata": {},
   "source": [
    "> **Model 1** <a class=\"anchor\" id=\"first-model\"></a>\n",
    "<br>\n",
    ">Info:<br>\n",
    "\n",
    ">KNN classifer:\n",
    ">- Finds the nearest neighour and assigns the new record to the variable with the most votes  \n",
    ">- Pick an odd number for KNN as there would be no ambiguity during voting \n",
    ">- Evaluate using accuracy"
   ]
  },
  {
   "cell_type": "code",
   "execution_count": 15,
   "id": "ad34ab06",
   "metadata": {},
   "outputs": [
    {
     "data": {
      "text/html": [
       "<div>\n",
       "<style scoped>\n",
       "    .dataframe tbody tr th:only-of-type {\n",
       "        vertical-align: middle;\n",
       "    }\n",
       "\n",
       "    .dataframe tbody tr th {\n",
       "        vertical-align: top;\n",
       "    }\n",
       "\n",
       "    .dataframe thead th {\n",
       "        text-align: right;\n",
       "    }\n",
       "</style>\n",
       "<table border=\"1\" class=\"dataframe\">\n",
       "  <thead>\n",
       "    <tr style=\"text-align: right;\">\n",
       "      <th></th>\n",
       "      <th>k</th>\n",
       "      <th>accuracy</th>\n",
       "    </tr>\n",
       "  </thead>\n",
       "  <tbody>\n",
       "    <tr>\n",
       "      <th>0</th>\n",
       "      <td>1</td>\n",
       "      <td>0.87</td>\n",
       "    </tr>\n",
       "    <tr>\n",
       "      <th>1</th>\n",
       "      <td>3</td>\n",
       "      <td>0.91</td>\n",
       "    </tr>\n",
       "    <tr>\n",
       "      <th>2</th>\n",
       "      <td>5</td>\n",
       "      <td>0.87</td>\n",
       "    </tr>\n",
       "    <tr>\n",
       "      <th>3</th>\n",
       "      <td>7</td>\n",
       "      <td>0.87</td>\n",
       "    </tr>\n",
       "    <tr>\n",
       "      <th>4</th>\n",
       "      <td>9</td>\n",
       "      <td>0.87</td>\n",
       "    </tr>\n",
       "    <tr>\n",
       "      <th>5</th>\n",
       "      <td>11</td>\n",
       "      <td>0.83</td>\n",
       "    </tr>\n",
       "    <tr>\n",
       "      <th>6</th>\n",
       "      <td>13</td>\n",
       "      <td>0.83</td>\n",
       "    </tr>\n",
       "    <tr>\n",
       "      <th>7</th>\n",
       "      <td>15</td>\n",
       "      <td>0.87</td>\n",
       "    </tr>\n",
       "    <tr>\n",
       "      <th>8</th>\n",
       "      <td>17</td>\n",
       "      <td>0.91</td>\n",
       "    </tr>\n",
       "    <tr>\n",
       "      <th>9</th>\n",
       "      <td>19</td>\n",
       "      <td>0.91</td>\n",
       "    </tr>\n",
       "    <tr>\n",
       "      <th>10</th>\n",
       "      <td>21</td>\n",
       "      <td>0.91</td>\n",
       "    </tr>\n",
       "    <tr>\n",
       "      <th>11</th>\n",
       "      <td>23</td>\n",
       "      <td>0.91</td>\n",
       "    </tr>\n",
       "    <tr>\n",
       "      <th>12</th>\n",
       "      <td>25</td>\n",
       "      <td>0.91</td>\n",
       "    </tr>\n",
       "    <tr>\n",
       "      <th>13</th>\n",
       "      <td>27</td>\n",
       "      <td>0.91</td>\n",
       "    </tr>\n",
       "    <tr>\n",
       "      <th>14</th>\n",
       "      <td>29</td>\n",
       "      <td>0.91</td>\n",
       "    </tr>\n",
       "  </tbody>\n",
       "</table>\n",
       "</div>"
      ],
      "text/plain": [
       "     k  accuracy\n",
       "0    1      0.87\n",
       "1    3      0.91\n",
       "2    5      0.87\n",
       "3    7      0.87\n",
       "4    9      0.87\n",
       "5   11      0.83\n",
       "6   13      0.83\n",
       "7   15      0.87\n",
       "8   17      0.91\n",
       "9   19      0.91\n",
       "10  21      0.91\n",
       "11  23      0.91\n",
       "12  25      0.91\n",
       "13  27      0.91\n",
       "14  29      0.91"
      ]
     },
     "execution_count": 15,
     "metadata": {},
     "output_type": "execute_result"
    }
   ],
   "source": [
    "# 1. Looping through different values of K to find optimal value of K\n",
    "results = []\n",
    "for k in [1,3,5,7,9,11,13,15,17,19,21,23,25,27,29]:\n",
    "    knn = KNeighborsClassifier(n_neighbors=k)\n",
    "    knn.fit(X_train,y_train.values.ravel())\n",
    "    \n",
    "    # Get predicted class\n",
    "    y_pred_class = knn.predict(X_test)\n",
    "    \n",
    "    # Put Accuracy Score in results object\n",
    "    results.append({'k':k,\n",
    "                    'accuracy':metrics.accuracy_score(y_test,y_pred_class)\n",
    "                   }\n",
    "                  )\n",
    "# Put results from above into a Pandas Dataframe\n",
    "results_df = pd.DataFrame(results)\n",
    "results_df"
   ]
  },
  {
   "cell_type": "markdown",
   "id": "33530397",
   "metadata": {},
   "source": [
    ">**Decision:**<br>\n",
    "Based on the results above, I will set my number of neighbors (k) to 3 (also decided based on the data set size) as this achieves the highest accuracy value, even though for some values of K we are getting the same value<br>\n",
    "\n",
    ">**Re-run kNN using the value selected above:**<br>\n",
    "For this final run of kNN, we will produce a table of performance measures across a range of probability threshold values"
   ]
  },
  {
   "cell_type": "code",
   "execution_count": 16,
   "id": "8bf7f5d7",
   "metadata": {},
   "outputs": [
    {
     "name": "stdout",
     "output_type": "stream",
     "text": [
      "Training data Accuracy: 0.92\n",
      "Testing data Accuracy: 0.91\n"
     ]
    }
   ],
   "source": [
    "knn = KNeighborsClassifier(n_neighbors=3)\n",
    "knn.fit(X_train,y_train.values.ravel())\n",
    "\n",
    "# Let's do a quick check to see if we have to worry about problems of overfitting.\n",
    "# Remember!  Small values for \"k\" in kNN tend to lead to overfitting.\n",
    "# Large value for \"k\" in kNN tend to produce underfit models\n",
    "y_train_pred_class = knn.predict(X_train)\n",
    "y_test_pred_class = knn.predict(X_test)\n",
    "\n",
    "print('Training data Accuracy:', metrics.accuracy_score(y_train,y_train_pred_class).round(2))\n",
    "print('Testing data Accuracy:', metrics.accuracy_score(y_test,y_test_pred_class).round(2))\n"
   ]
  },
  {
   "cell_type": "markdown",
   "id": "7c1727c6",
   "metadata": {},
   "source": [
    "**NOTE** :\n",
    "Based on the testing and training accuracy, there might be some overfitting problems which might need to be investigated further. --> UPDATE: Changed the random state to different values and the training and testing values improved."
   ]
  },
  {
   "cell_type": "markdown",
   "id": "f8f299b6",
   "metadata": {},
   "source": [
    "#### Elbow Graph method"
   ]
  },
  {
   "cell_type": "code",
   "execution_count": 17,
   "id": "7fbff9ce",
   "metadata": {},
   "outputs": [],
   "source": [
    "#Trying the elbow graph to find the best value of K - This takes into account the error rate to decide on the value of K\n",
    "\n",
    "error_rate = []\n",
    "\n",
    "# Will take some time\n",
    "for i in range(1,40):    \n",
    "    knn1 = KNeighborsClassifier(n_neighbors=i)\n",
    "    knn1.fit(X_train,y_train.values.ravel())\n",
    "    pred_i = knn1.predict(X_test)\n",
    "    pred_i = pred_i.reshape(X_test.shape[0],1)\n",
    "    error_rate.append(np.mean(pred_i != y_test,axis=0))"
   ]
  },
  {
   "cell_type": "code",
   "execution_count": 18,
   "id": "66100da4",
   "metadata": {},
   "outputs": [
    {
     "data": {
      "text/plain": [
       "Text(0, 0.5, 'Error Rate')"
      ]
     },
     "execution_count": 18,
     "metadata": {},
     "output_type": "execute_result"
    },
    {
     "data": {
      "image/png": "[encoded data removed]",
      "text/plain": [
       "<Figure size 720x432 with 1 Axes>"
      ]
     },
     "metadata": {
      "needs_background": "light"
     },
     "output_type": "display_data"
    }
   ],
   "source": [
    "plt.figure(figsize=(10,6))\n",
    "plt.plot(range(1,40),error_rate,color='blue', linestyle='dashed', marker='o',\n",
    " markerfacecolor='red', markersize=10)\n",
    "plt.title('Error Rate vs. K Value')\n",
    "plt.xlabel('K')\n",
    "plt.ylabel('Error Rate')"
   ]
  },
  {
   "cell_type": "markdown",
   "id": "f7d6b04a",
   "metadata": {},
   "source": [
    "> **MODEL1(KNN) - Summary and Questions** <br>\n",
    "> *Summary*<br>\n",
    ">>- The Accuracy score is the same for all the K values, hence we select a value of K which does not overfit/underfit the data too much i.e. k=3<br>\n",
    ">>- Tried the elbow graph - It can be inferred from the graph that there is less error when k=3 and it increases again after k=3. Hence,it justifies the reason why we have taken k=3<br>\n"
   ]
  },
  {
   "cell_type": "markdown",
   "id": "0f5770b9",
   "metadata": {},
   "source": [
    "> **Model 2** <a class=\"anchor\" id=\"second-model\"></a>\n",
    "<br>\n",
    ">Logistic Regression( Logistic Model):\n",
    "\n",
    ">- Running the same data with logit model to compare the performance\n",
    ">- Defining multiple thresholds to check which is better\n"
   ]
  },
  {
   "cell_type": "code",
   "execution_count": 19,
   "id": "e47f4170",
   "metadata": {},
   "outputs": [
    {
     "name": "stdout",
     "output_type": "stream",
     "text": [
      "Training data Accuracy: 0.92\n",
      "Testing data Accuracy: 0.87\n"
     ]
    }
   ],
   "source": [
    "lr_model = LogisticRegression()\n",
    "lr_model.fit(X_train,y_train.values.ravel())\n",
    "\n",
    "#predicting the values with the trained model\n",
    "y_train_pred_class = lr_model.predict(X_train)\n",
    "y_test_pred_class = lr_model.predict(X_test)\n",
    "\n",
    "print('Training data Accuracy:', metrics.accuracy_score(y_train,y_train_pred_class).round(2))\n",
    "print('Testing data Accuracy:', metrics.accuracy_score(y_test,y_test_pred_class).round(2))"
   ]
  },
  {
   "cell_type": "markdown",
   "id": "7684ed11",
   "metadata": {},
   "source": [
    ">**Winning Model:**<br>\n",
    "We need to quickly decide which modeling framework to go forward with<br>\n",
    "To keep this simple - I'm going to use AUC and will choose the model that gives us the highest value"
   ]
  },
  {
   "cell_type": "code",
   "execution_count": 20,
   "id": "7998ef76",
   "metadata": {},
   "outputs": [
    {
     "data": {
      "image/png": "[encoded data removed]",
      "text/plain": [
       "<Figure size 432x288 with 1 Axes>"
      ]
     },
     "metadata": {
      "needs_background": "light"
     },
     "output_type": "display_data"
    },
    {
     "data": {
      "image/png": "[encoded data removed]",
      "text/plain": [
       "<Figure size 432x288 with 1 Axes>"
      ]
     },
     "metadata": {
      "needs_background": "light"
     },
     "output_type": "display_data"
    }
   ],
   "source": [
    "# ROC curve for kNN\n",
    "metrics.RocCurveDisplay.from_estimator(knn,X_test,y_test)\n",
    "plt.show()\n",
    "\n",
    "# ROC curve for Logistic Model\n",
    "metrics.RocCurveDisplay.from_estimator(lr_model,X_test,y_test)\n",
    "plt.show()"
   ]
  },
  {
   "cell_type": "markdown",
   "id": "974c650a",
   "metadata": {},
   "source": [
    ">**Decision Point:**<br>\n",
    "AUC is the same for both the models, I interchangebly tried both the models to check for performance. I'm picking Logistic Model to further evaluate other performance scores like F1 score etc."
   ]
  },
  {
   "cell_type": "markdown",
   "id": "cef5d9aa",
   "metadata": {},
   "source": [
    "> **Performance metrics** <a class=\"anchor\" id=\"perf-eval\"></a>"
   ]
  },
  {
   "cell_type": "code",
   "execution_count": 21,
   "id": "a81bceb0",
   "metadata": {},
   "outputs": [
    {
     "name": "stderr",
     "output_type": "stream",
     "text": [
      "C:\\Users\\psupr\\anaconda3\\lib\\site-packages\\sklearn\\metrics\\_classification.py:1318: UndefinedMetricWarning: Precision is ill-defined and being set to 0.0 due to no predicted samples. Use `zero_division` parameter to control this behavior.\n",
      "  _warn_prf(average, modifier, msg_start, len(result))\n"
     ]
    },
    {
     "data": {
      "text/html": [
       "<div>\n",
       "<style scoped>\n",
       "    .dataframe tbody tr th:only-of-type {\n",
       "        vertical-align: middle;\n",
       "    }\n",
       "\n",
       "    .dataframe tbody tr th {\n",
       "        vertical-align: top;\n",
       "    }\n",
       "\n",
       "    .dataframe thead th {\n",
       "        text-align: right;\n",
       "    }\n",
       "</style>\n",
       "<table border=\"1\" class=\"dataframe\">\n",
       "  <thead>\n",
       "    <tr style=\"text-align: right;\">\n",
       "      <th></th>\n",
       "      <th>threshold</th>\n",
       "      <th>TP</th>\n",
       "      <th>TN</th>\n",
       "      <th>FP</th>\n",
       "      <th>FN</th>\n",
       "      <th>Precision</th>\n",
       "      <th>Recall</th>\n",
       "      <th>Accuracy</th>\n",
       "      <th>F1-Score</th>\n",
       "    </tr>\n",
       "  </thead>\n",
       "  <tbody>\n",
       "    <tr>\n",
       "      <th>0</th>\n",
       "      <td>0.00</td>\n",
       "      <td>2</td>\n",
       "      <td>0</td>\n",
       "      <td>21</td>\n",
       "      <td>0</td>\n",
       "      <td>0.09</td>\n",
       "      <td>1.00</td>\n",
       "      <td>0.09</td>\n",
       "      <td>0.16</td>\n",
       "    </tr>\n",
       "    <tr>\n",
       "      <th>1</th>\n",
       "      <td>0.10</td>\n",
       "      <td>2</td>\n",
       "      <td>17</td>\n",
       "      <td>4</td>\n",
       "      <td>0</td>\n",
       "      <td>0.33</td>\n",
       "      <td>1.00</td>\n",
       "      <td>0.83</td>\n",
       "      <td>0.50</td>\n",
       "    </tr>\n",
       "    <tr>\n",
       "      <th>2</th>\n",
       "      <td>0.20</td>\n",
       "      <td>2</td>\n",
       "      <td>18</td>\n",
       "      <td>3</td>\n",
       "      <td>0</td>\n",
       "      <td>0.40</td>\n",
       "      <td>1.00</td>\n",
       "      <td>0.87</td>\n",
       "      <td>0.57</td>\n",
       "    </tr>\n",
       "    <tr>\n",
       "      <th>3</th>\n",
       "      <td>0.30</td>\n",
       "      <td>2</td>\n",
       "      <td>18</td>\n",
       "      <td>3</td>\n",
       "      <td>0</td>\n",
       "      <td>0.40</td>\n",
       "      <td>1.00</td>\n",
       "      <td>0.87</td>\n",
       "      <td>0.57</td>\n",
       "    </tr>\n",
       "    <tr>\n",
       "      <th>4</th>\n",
       "      <td>0.40</td>\n",
       "      <td>2</td>\n",
       "      <td>19</td>\n",
       "      <td>2</td>\n",
       "      <td>0</td>\n",
       "      <td>0.50</td>\n",
       "      <td>1.00</td>\n",
       "      <td>0.91</td>\n",
       "      <td>0.67</td>\n",
       "    </tr>\n",
       "    <tr>\n",
       "      <th>5</th>\n",
       "      <td>0.50</td>\n",
       "      <td>1</td>\n",
       "      <td>19</td>\n",
       "      <td>2</td>\n",
       "      <td>1</td>\n",
       "      <td>0.33</td>\n",
       "      <td>0.50</td>\n",
       "      <td>0.87</td>\n",
       "      <td>0.40</td>\n",
       "    </tr>\n",
       "    <tr>\n",
       "      <th>6</th>\n",
       "      <td>0.60</td>\n",
       "      <td>1</td>\n",
       "      <td>20</td>\n",
       "      <td>1</td>\n",
       "      <td>1</td>\n",
       "      <td>0.50</td>\n",
       "      <td>0.50</td>\n",
       "      <td>0.91</td>\n",
       "      <td>0.50</td>\n",
       "    </tr>\n",
       "    <tr>\n",
       "      <th>7</th>\n",
       "      <td>0.70</td>\n",
       "      <td>1</td>\n",
       "      <td>20</td>\n",
       "      <td>1</td>\n",
       "      <td>1</td>\n",
       "      <td>0.50</td>\n",
       "      <td>0.50</td>\n",
       "      <td>0.91</td>\n",
       "      <td>0.50</td>\n",
       "    </tr>\n",
       "    <tr>\n",
       "      <th>8</th>\n",
       "      <td>0.80</td>\n",
       "      <td>1</td>\n",
       "      <td>20</td>\n",
       "      <td>1</td>\n",
       "      <td>1</td>\n",
       "      <td>0.50</td>\n",
       "      <td>0.50</td>\n",
       "      <td>0.91</td>\n",
       "      <td>0.50</td>\n",
       "    </tr>\n",
       "    <tr>\n",
       "      <th>9</th>\n",
       "      <td>0.90</td>\n",
       "      <td>0</td>\n",
       "      <td>20</td>\n",
       "      <td>1</td>\n",
       "      <td>2</td>\n",
       "      <td>0.00</td>\n",
       "      <td>0.00</td>\n",
       "      <td>0.87</td>\n",
       "      <td>0.00</td>\n",
       "    </tr>\n",
       "    <tr>\n",
       "      <th>10</th>\n",
       "      <td>1.00</td>\n",
       "      <td>0</td>\n",
       "      <td>21</td>\n",
       "      <td>0</td>\n",
       "      <td>2</td>\n",
       "      <td>0.00</td>\n",
       "      <td>0.00</td>\n",
       "      <td>0.91</td>\n",
       "      <td>0.00</td>\n",
       "    </tr>\n",
       "  </tbody>\n",
       "</table>\n",
       "</div>"
      ],
      "text/plain": [
       "    threshold  TP  TN  FP  FN  Precision  Recall  Accuracy  F1-Score\n",
       "0        0.00   2   0  21   0       0.09    1.00      0.09      0.16\n",
       "1        0.10   2  17   4   0       0.33    1.00      0.83      0.50\n",
       "2        0.20   2  18   3   0       0.40    1.00      0.87      0.57\n",
       "3        0.30   2  18   3   0       0.40    1.00      0.87      0.57\n",
       "4        0.40   2  19   2   0       0.50    1.00      0.91      0.67\n",
       "5        0.50   1  19   2   1       0.33    0.50      0.87      0.40\n",
       "6        0.60   1  20   1   1       0.50    0.50      0.91      0.50\n",
       "7        0.70   1  20   1   1       0.50    0.50      0.91      0.50\n",
       "8        0.80   1  20   1   1       0.50    0.50      0.91      0.50\n",
       "9        0.90   0  20   1   2       0.00    0.00      0.87      0.00\n",
       "10       1.00   0  21   0   2       0.00    0.00      0.91      0.00"
      ]
     },
     "execution_count": 21,
     "metadata": {},
     "output_type": "execute_result"
    }
   ],
   "source": [
    "class_perf_measures(lr_model,X_test,y_test)"
   ]
  },
  {
   "cell_type": "markdown",
   "id": "d23afd94",
   "metadata": {},
   "source": [
    "1. **Prob Threshold = 0.1**:\n",
    "    - The probability threshold is set to 10%, which means if the predicted probabilities is greater than or equal to 0.1, then it is termed as TasKCompleted(1) else not completed(0)\n",
    "    - Low threshold value leads our model in predicting more no. of. employees have finished their task.\n",
    "        We can see this in our test set has been assigned to task completed -2 ( a relatively low number because the data set is not large).\n",
    "    - False positive (FP) - this is in line with the probability taken for observation and is relatively high (4). If the business(HR) gives importance to this measure,the model will wrongly classify the employee who has not completed the task to be termed as completed. This will lead the HR team to allocate this employee to another task and would cause imbalance in the whole system of allocation which would cost the company a significant amount of money. \n",
    "    - False Negative (FN) - The number is --> reflects in recall score to be 1. If the business(HR) gives importance to this measure,the model will  classify the employee who has completed the task to be termed as not completed. This will lead to ambiguity in assigning the task and repetition of the same work\n",
    "    - We also see that accuracy is quite high for this threshold, but the precision score is not.\n",
    "\n",
    "       \n",
    "<br><br>\n",
    "\n",
    "2. **Prob Threshold = 0.4**:\n",
    "    - The probability threshold is set to 40%, which means if the predicted probabilities is greater than or equal to 0.4, then       it is termed as TasKCompleted(1) else not completed(0)\n",
    "    - False Positive - 2\n",
    "    - False Negative - 0\n",
    "    - is this a better threshold than 0.1?   - Yes, As i'm considering the FP to be the most costliest mistake, reducing the same will lead to better results for the company. Checking the precision score : 50% , which is to be considered for these type of mistakes which penalize the model.\n",
    "    - Accuracy is relatively high while precision and recall scores are also in the same range. F1 score being highest for this model.  \n",
    "<br><br>\n",
    "\n",
    "\n",
    "3. **Prob Threshold = 0.8**:\n",
    "    - The probability threshold is set to 80%, which means if the predicted probabilities is greater than or equal to 0.8, then it is termed as TasKCompleted(1) else not completed(0)\n",
    "    - False Positive - 1\n",
    "    - False Negative - 1\n",
    "    - is this a better threshold than 0.1 and 0.4?- NO, Even though i'm considering FP, the F1 score falls to 0.50 and we have better results in the probability threshold of 0.4.\n",
    "<br><br>\n",
    "\n",
    "\n",
    "4. **Which threshold would you choose?  Justify your decision.**\n",
    "\n",
    "    > According to my business understanding, making a FALSE POSITIVE is more costly to the company than false negative as the work will be deemed as completed and moved on, but later when it is realized that its not completed. The cost to the company would be more and also extra cost for completing the unfinished work\n",
    "    \n",
    "    Hence, I would consider the probability threshold of 40% and penalize the model with FALSE Positive i.e.Precision score to be important rather than recall or accuracy."
   ]
  },
  {
   "cell_type": "markdown",
   "id": "78dd7888",
   "metadata": {},
   "source": [
    "<h1 style=\"background-color:powderblue; \">7. Deployment </h1> <a class=\"anchor\" id=\"Deployment\"></a>\n",
    "\n",
    "* [Go to Top](#table-of-content)"
   ]
  },
  {
   "cell_type": "code",
   "execution_count": 22,
   "id": "cb93511c",
   "metadata": {},
   "outputs": [],
   "source": [
    "pickle_out = open('classifier', mode='wb')\n",
    "pickle.dump(lr_model, pickle_out)\n",
    "pickle_out.close()"
   ]
  },
  {
   "cell_type": "code",
   "execution_count": 23,
   "id": "33225a08",
   "metadata": {},
   "outputs": [
    {
     "name": "stdout",
     "output_type": "stream",
     "text": [
      "Overwriting app.py\n"
     ]
    }
   ],
   "source": [
    "%%writefile app.py\n",
    "\n",
    "import pickle\n",
    "import streamlit as st\n",
    "\n",
    "pickle_in = open('classifier', 'rb')   #Unpickling\n",
    "classifier = pickle.load(pickle_in)\n",
    "\n",
    "st.set_page_config(page_title='Resource Allocation ', page_icon=\"🗓️\")    #The set_page_config method lets us define the webpage title name and icon\n",
    "\n",
    "@st.cache()\n",
    "\n",
    "\n",
    "# Define the function which will make the prediction using data\n",
    "# inputs from users\n",
    "def prediction(employee_experience, training_level4,\n",
    "               training_level6, training_level8):\n",
    "    \n",
    "    # Make predictions\n",
    "    prediction = classifier.predict(\n",
    "        [[employee_experience, training_level4,training_level6, training_level8]])\n",
    "    \n",
    "    if prediction == 0:\n",
    "        pred = 'The Employee has completed the TASK'\n",
    "    else:\n",
    "        pred = 'Employee has not completed the task - Please look into it'\n",
    "    return pred\n",
    "\n",
    "# This is the main function in which we define our webpage\n",
    "def main():\n",
    "    \n",
    "    st.title(\"Allocation Strategy Model\")   # Title of the model displayed in the webpage\n",
    "    \n",
    "    #Give a little bit information of the Model\n",
    "    st.info('The Model takes in the below predictor variables for a company and predicts if an employee is going to complete his/her task successfully!', icon=\"ℹ️\")\n",
    "    \n",
    "    # Create input fields\n",
    "    employee_experience = st.number_input(\"How many years of work experience does the eemployee have? (In years)\",\n",
    "                                  min_value=2.0,\n",
    "                                  max_value=14.0,\n",
    "                                  value=2.5,\n",
    "                                  step=0.2,\n",
    "                                 )\n",
    "    training_level4 = st.number_input(\"Is the employee trained on level 4? ('1' for Yes and '0' for NO) \",\n",
    "                              min_value=0,\n",
    "                              max_value=1,\n",
    "                              value=0,\n",
    "                              step=1\n",
    "                             )\n",
    "\n",
    "    training_level6 = st.number_input(\"Is the employee trained on level 6?('1' for Yes and '0' for NO)\",\n",
    "                              min_value=0,\n",
    "                              max_value=1,\n",
    "                              value=0,\n",
    "                              step=1\n",
    "                             )\n",
    "    training_level8 = st.number_input(\"Is the employee trained on level 8?('1' for Yes and '0' for NO)\",\n",
    "                          min_value=0,\n",
    "                          max_value=1,\n",
    "                          value=0,\n",
    "                          step=1\n",
    "                             )\n",
    "\n",
    "    result = \"\"\n",
    "    \n",
    "    # When 'Predict' is clicked, make the prediction and store it\n",
    "    if st.button(\"Predict\"):\n",
    "        result = prediction(employee_experience, training_level4,training_level6, training_level8)\n",
    "        st.success(result)\n",
    "        #If the predictions are true, celebrate that the model is properly working, else spit out a  warning\n",
    "        if(result == 'The Employee has completed the TASK'):\n",
    "            st.balloons()   \n",
    "        else:\n",
    "            st.image('https://static.vecteezy.com/system/resources/previews/005/468/835/non_2x/frustrated-stickman-boss-holding-finished-hourglass-and-shouting-at-employee-stickman-employee-is-very-upset-deadline-is-over-and-the-task-could-not-be-completed-free-vector.jpg',caption=\"Work/Task Not completed\",width=500)\n",
    "     \n",
    "    st.image(\"https://upload.wikimedia.org/wikipedia/commons/f/f3/W._P._Carey_School_of_Business_logo.png\", width = 150)\n",
    "    st.write(\"Built by Supreeth P\")\n",
    "    st.write(\"Version 1.0.0\")\n",
    "    \n",
    "if __name__=='__main__':\n",
    "    main()"
   ]
  },
  {
   "cell_type": "markdown",
   "id": "aebcad97",
   "metadata": {},
   "source": [
    "**NOTE:**\n",
    "> I tried to change the default probability threshold sent to the pickle file or streamlit ( the ouput deployment) by using pred_proba instead of predict call. Ran into some issues while encoding this with the predictor variables. Still working on this and will get in touch If i'm unable to find the solution."
   ]
  },
  {
   "cell_type": "code",
   "execution_count": 24,
   "id": "8dd6dec2",
   "metadata": {},
   "outputs": [
    {
     "name": "stdout",
     "output_type": "stream",
     "text": [
      "^C\n"
     ]
    }
   ],
   "source": [
    "!streamlit run app.py"
   ]
  },
  {
   "cell_type": "markdown",
   "id": "03e38a41",
   "metadata": {},
   "source": [
    "<h1 style=\"background-color:powderblue; \">6. Conclusion </h1> <a class=\"anchor\" id=\"Conclusion\"></a>\n",
    "\n",
    "* [Go to Top](#table-of-content)"
   ]
  },
  {
   "cell_type": "markdown",
   "id": "f2761b4f",
   "metadata": {},
   "source": [
    "> Coming from a data scientist point of view, I would ask the HR dept for more data, as the data provided is not enough to give very accurate and precise models. As we do not have that info, we are going ahead with what we have and concluding our results on the same.\n",
    "\n",
    "> Based the developed models, I would consider the Logistic Model which has better AUC than KNN\n",
    "\n",
    "> I would consider the probability threshold of 40% and penalize the model with FALSE Positive i.e.Precision score to be important rather than recall or accuracy. \n",
    "\n",
    "> Due to the imbalance in the dataset, our streamlit app will be more leaning towards to one result ( More number of 0's ). This is evident when the app is run and prediction is seen.\n"
   ]
  }
 ],
 "metadata": {
  "kernelspec": {
   "display_name": "Python 3 (ipykernel)",
   "language": "python",
   "name": "python3"
  },
  "language_info": {
   "codemirror_mode": {
    "name": "ipython",
    "version": 3
   },
   "file_extension": ".py",
   "mimetype": "text/x-python",
   "name": "python",
   "nbconvert_exporter": "python",
   "pygments_lexer": "ipython3",
   "version": "3.9.12"
  }
 },
 "nbformat": 4,
 "nbformat_minor": 5
}
